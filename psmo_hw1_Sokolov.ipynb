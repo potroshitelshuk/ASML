{
 "cells": [
  {
   "cell_type": "markdown",
   "metadata": {},
   "source": [
    "# Прикладная статистика в машинном обучении 2021-2022"
   ]
  },
  {
   "cell_type": "markdown",
   "metadata": {},
   "source": [
    "## Домашнее задание #1\n",
    "\n",
    "## Часть 2"
   ]
  },
  {
   "cell_type": "markdown",
   "metadata": {},
   "source": [
    "### Дедлайн: 29 октября 2021 года, 23:59"
   ]
  },
  {
   "cell_type": "markdown",
   "metadata": {},
   "source": [
    "**Правила игры**\n",
    "\n",
    "1. Домашнее задание состоит из двух частей. Часть 1 содержит 13 обязательных и две бонусных задачи и предполагает решение «от руки». Часть 2 содержит 3 обязательных задачи и предполагает программное решение.\n",
    "\n",
    "\n",
    "2. Домашнее задание оценивается в $80$ баллов. При этом часть 1 оценивается в $65$ баллов, а часть 2 – в $15$ баллов. По умолчанию за каждый пункт каждой задачи можно получить $1$ балл. Однако за некоторые пункты некоторых задач можно получить другое количество баллов, которое явно указано в скобках рядом с меткой пункта.\n",
    "\n",
    "\n",
    "3. Каждый пункт оценивается с промежутком $0.5$. Например, если за пункт можно получить максимум $1$ балл, то за полностью корректное решение ставится $1$ балл, за решение с небольшими ошибками ставится $0.5$ балла, за решение с серьёзными ошибками или неправильное решение ставится $0$ баллов. Для пунктов, за которые можно получить максимум $2$ балла, в зависимости от решения можно получить $2$, $1.5$, $1$ и т.д. баллов. При этом пункты проверяются независимо друг от друга: если пункт $t+1$ зависит от численных результатов пункта $t$, и в пункте $t$ допускается ошибка, из-за которой в пункт $t+1$ приходят неверные входные данные, то при корректном решении пункт $t+1$ оценивается в максимальное количество баллов, которое можно за него получить.\n",
    "\n",
    "\n",
    "4. Бонусные задачи $X$ и $Y$ приведены в конце части 1 и обозначены значком $\\dagger$. Эти задачи необязательны к решению и учитываются сверх установленных $80$ баллов. Баллы за корректно решённые бонусные задачи прибавляются к набранным баллам, даже если в сумме получается больше $80$ баллов (оценка за домашнюю работу в этом случае будет больше 10, и так и будет внесена в таблицу с оценками).\n",
    "\n",
    "\n",
    "5. Весь код должен быть написан на Python, R, C или C++.\n",
    "\n",
    "\n",
    "6. Решения принимаются до **29 октября 2021 года, 23:59 МСК** включительно. Работы, отправленные после дедлайна, проверяются, но **не оцениваются**. Дата и время сдачи определяются по последнему запушенному в репозиторий коммиту (можно увидеть на GitHub, наведя мышкой на указатель срока (например, 3 days ago) справа от файлов).\n",
    "\n",
    "\n",
    "7. Все решения нужно загрузить в личный репозиторий на [GitHub Classroom](https://classroom.github.com/a/KZaAKjaA).\n",
    "\n",
    "\n",
    "8. Репозиторий должен содержать: PDF-файл с решениями задач части 1 и файл с кодом с решениями задач части 2. Решение задач части 1 можно набрать в любом электронном редакторе или написать от руки, а затем сделать качественный скан. Все решения должны быть расположены в правильном порядке в одном файле. Файлы должны быть названы по типу «name\\_surname\\_group\\_hw1\\_part1.pdf» и «name\\_surname\\_group\\_hw1\\_part2.ext», где вместо ext может быть .py, .ipynb, .R, .c, .cpp. Если решение части 2 разбивается на несколько файлов кода, то в репозиторий нужно загрузить все файлы, а в README.md подробно указать, что содержит каждый файл. \n",
    "\n",
    "\n",
    "9. Разрешается использовать без доказательства любые результаты, встречавшиеся на лекциях или семинарах по курсу, если получение этих результатов не является вопросом задания. Разрешается использовать любые свободные источники с указанием ссылки на них.\n",
    "\n",
    "\n",
    "10. Плагиат не допускается. При обнаружении случаев списывания, $0$ за работу выставляется всем участникам нарушения, даже если можно установить, кто у кого списал. "
   ]
  },
  {
   "cell_type": "markdown",
   "metadata": {},
   "source": [
    "---"
   ]
  },
  {
   "cell_type": "markdown",
   "metadata": {},
   "source": [
    "#### Задача 14. Divide et impera!\n",
    "\n",
    "Файле `14.csv` содержит данные, которые являются смесью гауссиан. \n",
    "\n",
    "**[a]** Постройте гистограмму выборки. Изучите гистограмму и сделайте предположения о количестве гауссиан, а также задайте разумный вектор начальных параметров $\\theta$.\n",
    "\n",
    "**[б]** **(3 балла)** Реализуйте EM-алгоритм для нахождения оценки $\\hat{\\theta}$. Итоговые формулы представьте только в виде кода (то есть не требуется отдельно прикладывать или техать вывод формул).\n",
    "\n",
    "**[в]** Постройте график $Q$ в зависимости от числа итераций.\n",
    "\n",
    "**[г]** Являются ли полученные оценки параметров адекватными (адекватность оцените визуально по гистограмме). Если нет, приведите возможную причину провала EM-алгоритма. "
   ]
  },
  {
   "cell_type": "code",
   "execution_count": 1,
   "metadata": {},
   "outputs": [],
   "source": [
    "import pandas as pd\n",
    "import matplotlib.pyplot as plt\n",
    "import numpy as np\n",
    "from scipy.special import factorial\n",
    "import warnings\n",
    "import seaborn as sns\n",
    "warnings.filterwarnings('ignore')"
   ]
  },
  {
   "cell_type": "markdown",
   "metadata": {},
   "source": [
    "**[a]**"
   ]
  },
  {
   "cell_type": "code",
   "execution_count": 2,
   "metadata": {},
   "outputs": [],
   "source": [
    "df = pd.read_csv('14.csv', index_col='Unnamed: 0')\n",
    "x = df['X']"
   ]
  },
  {
   "cell_type": "code",
   "execution_count": 3,
   "metadata": {},
   "outputs": [
    {
     "data": {
      "image/png": "[encoded data removed]",
      "text/plain": [
       "<Figure size 1368x504 with 1 Axes>"
      ]
     },
     "metadata": {
      "needs_background": "light"
     },
     "output_type": "display_data"
    }
   ],
   "source": [
    "fig = plt.figure(figsize=(19, 7))\n",
    "sns.histplot(df['X'], bins=40, color='r')\n",
    "plt.show()"
   ]
  },
  {
   "cell_type": "markdown",
   "metadata": {},
   "source": [
    "**Предположение:** В выборке содержится смесь из 5 нормальных распределений "
   ]
  },
  {
   "cell_type": "markdown",
   "metadata": {},
   "source": [
    "**[б]**"
   ]
  },
  {
   "cell_type": "code",
   "execution_count": 4,
   "metadata": {},
   "outputs": [],
   "source": [
    "def count_rest_prob(theta, num_distributions):\n",
    "    rest_prob = 0\n",
    "    for j in range(num_distributions - 1):\n",
    "        rest_prob += theta[num_distributions * 2 + j]\n",
    "\n",
    "    return 1 - rest_prob\n",
    "\n",
    "def f(x, mu, sigma2):\n",
    "    return 1 / np.sqrt(2 * np.pi * sigma2) * np.exp(-1/2 * 1/sigma2 * (x - mu)**2)\n",
    "\n",
    "def lnf(x, mu, sigma2):\n",
    "    return -1/2 * np.log(2 * np.pi * sigma2) - 1/2 * (x - mu) ** 2 / sigma2\n",
    "\n",
    "def Q_f(x, theta, p_z, num_distributions, rest_prob):\n",
    "    ells = []\n",
    "    \n",
    "    for i in range(num_distributions):\n",
    "        if i == num_distributions - 1:\n",
    "            ells.append(lnf(x, theta[2 * i], theta[2 * i + 1]) + np.log(rest_prob))\n",
    "        else:\n",
    "            ells.append(lnf(x, theta[2 * i], theta[2 * i + 1]) + np.log(theta[2 * num_distributions + i]))\n",
    "    \n",
    "    res = np.zeros(len(x))\n",
    "    for i in range(len(ells) - 1):\n",
    "        res += p_z[i] * ells[i]\n",
    "    res += ells[-1] * (1 - sum(p_z))\n",
    "    return np.sum(res)"
   ]
  },
  {
   "cell_type": "code",
   "execution_count": 5,
   "metadata": {},
   "outputs": [],
   "source": [
    "def EM(x, theta, iters, num_distributions):\n",
    "    \n",
    "    Q_history = []\n",
    "    \n",
    "    for i in range(iters):\n",
    "        rest_prob = count_rest_prob(theta, num_distributions)\n",
    "        \n",
    "        # E-step\n",
    "        p_z = []\n",
    "        denom = np.zeros(len(x))\n",
    "        \n",
    "        for k in range(num_distributions):\n",
    "            func = f(x, mu = theta[2 * k], sigma2 = theta[2 * k + 1])\n",
    "            \n",
    "            if k == num_distributions - 1:\n",
    "                mul = rest_prob\n",
    "            else:\n",
    "                mul = theta[num_distributions * 2 + k]\n",
    "                \n",
    "            denom += mul * func\n",
    "            \n",
    "        for k in range(num_distributions - 1):\n",
    "\n",
    "            \n",
    "            p_z_k = (f(x, mu = theta[2 * k], sigma2 = theta[2 * k + 1]) * theta[num_distributions * 2 + k]) / denom\n",
    "            p_z.append(p_z_k)\n",
    "        \n",
    "        Q_history.append(Q_f(x, theta, p_z, num_distributions, rest_prob))\n",
    "        \n",
    "        if i > 0:\n",
    "            if (Q_history[i] - Q_history[i-1])**2 < 1e-4:\n",
    "                break\n",
    "        \n",
    "        \n",
    "        \n",
    "        # M-step\n",
    "        mus = []\n",
    "        for each in p_z:\n",
    "            mus.append(np.sum(each * x) / np.sum(each))\n",
    "        sum_ = np.zeros(len(p_z[0]))\n",
    "        for each in p_z:\n",
    "            sum_ += each\n",
    "        mus.append(np.sum((1 - sum_) * x) / np.sum(1 - sum_))\n",
    "        \n",
    "        \n",
    "        sigmas = []\n",
    "        for i in range(len(p_z)):\n",
    "            sigmas.append(np.sum((x - mus[i]) ** 2 * p_z[i]) / np.sum(p_z[i]))\n",
    "        \n",
    "        sigmas.append(np.sum((x - mus[-1]) ** 2 * (1 - sum_)) / np.sum(1 - sum_))\n",
    "        peshki = []\n",
    "        for i in range(len(sigmas) - 1):\n",
    "            peshki.append(np.sum(p_z[i]) / len(x))\n",
    "        \n",
    "        \n",
    "        theta_new = np.array([])\n",
    "        for i in range(len(mus)):\n",
    "            theta_new = np.append(theta_new, mus[i])\n",
    "            theta_new = np.append(theta_new, sigmas[i])\n",
    "        for i in range(len(peshki)):\n",
    "            theta_new = np.append(theta_new, peshki[i])\n",
    "        \n",
    "        theta = theta_new\n",
    "    \n",
    "    return (theta, Q_history)\n"
   ]
  },
  {
   "cell_type": "code",
   "execution_count": 6,
   "metadata": {},
   "outputs": [],
   "source": [
    "theta = np.array([0, (np.max(x) - np.min(x)) / 5,\n",
    "                  3, (np.max(x) - np.min(x)) / 5,\n",
    "                  7, (np.max(x) - np.min(x)) / 5,\n",
    "                  17, (np.max(x) - np.min(x)) / 5,\n",
    "                  26, (np.max(x) - np.min(x)) / 5,\n",
    "                  1/5, 1/5, 1/5, 1/5])\n",
    "\n",
    "theta, Q = EM(x, theta, 100, 5)"
   ]
  },
  {
   "cell_type": "markdown",
   "metadata": {},
   "source": [
    "**[в]**"
   ]
  },
  {
   "cell_type": "code",
   "execution_count": 7,
   "metadata": {},
   "outputs": [
    {
     "data": {
      "image/png": "[encoded data removed]",
      "text/plain": [
       "<Figure size 1152x648 with 1 Axes>"
      ]
     },
     "metadata": {
      "needs_background": "light"
     },
     "output_type": "display_data"
    }
   ],
   "source": [
    "plt.figure(figsize=(16, 9))\n",
    "sns.lineplot(np.arange(len(Q)), Q, color='r')\n",
    "plt.xlabel('Iter', weight='bold', size=14)\n",
    "plt.ylabel('Q', weight='bold', size=14)\n",
    "plt.show()"
   ]
  },
  {
   "cell_type": "markdown",
   "metadata": {},
   "source": [
    "**[г]**"
   ]
  },
  {
   "cell_type": "code",
   "execution_count": 8,
   "metadata": {},
   "outputs": [
    {
     "data": {
      "image/png": "[encoded data removed]",
      "text/plain": [
       "<Figure size 1368x504 with 1 Axes>"
      ]
     },
     "metadata": {
      "needs_background": "light"
     },
     "output_type": "display_data"
    }
   ],
   "source": [
    "fig = plt.figure(figsize=(19, 7))\n",
    "sns.histplot(df['X'], bins=40, color='r')\n",
    "plt.show()"
   ]
  },
  {
   "cell_type": "code",
   "execution_count": 9,
   "metadata": {},
   "outputs": [
    {
     "name": "stdout",
     "output_type": "stream",
     "text": [
      "E: -0.02 D: 0.22 p 0.14\n",
      "E: 3.0 D: 0.0 p 0.29\n",
      "E: 5.99 D: 5.8 p 0.15\n",
      "E: 17.17 D: 7.81 p 0.07\n",
      "E: 25.0 D: 0.0 p 0.36\n"
     ]
    }
   ],
   "source": [
    "for el in zip(theta[:-4:2], theta[1:-4:2], np.append(theta[-4:], 1 - theta[-4:].sum())):\n",
    "    print('E:', round(el[0], 2), 'D:', round(el[1], 2), 'p', round(el[2], 2))"
   ]
  },
  {
   "cell_type": "markdown",
   "metadata": {},
   "source": [
    "**Вывод:** Оценки получились с хорошей точностью, но в некоторых случаях значения димперсии не соответствуют реальности, это может быть связано с тем, что мы не знаем изначальное количество распределений, поэтому не можем выдавать адекватные значения каждого из них. Так же распределения \"накладываются\" друг на друга, из-за этого точность предсказаний тоже может быть снижена."
   ]
  },
  {
   "cell_type": "markdown",
   "metadata": {},
   "source": [
    "__Сравнение с результатами существующей библиотеки GaussianMixture для оценки корректности результатов__"
   ]
  },
  {
   "cell_type": "code",
   "execution_count": 10,
   "metadata": {},
   "outputs": [
    {
     "data": {
      "text/plain": [
       "<AxesSubplot:xlabel='X', ylabel='Count'>"
      ]
     },
     "execution_count": 10,
     "metadata": {},
     "output_type": "execute_result"
    },
    {
     "data": {
      "image/png": "[encoded data removed]",
      "text/plain": [
       "<Figure size 1008x504 with 1 Axes>"
      ]
     },
     "metadata": {
      "needs_background": "light"
     },
     "output_type": "display_data"
    }
   ],
   "source": [
    "from sklearn.mixture import GaussianMixture as GMM\n",
    "\n",
    "model = GMM(n_components=5, covariance_type='full', init_params='kmeans')\n",
    "model.fit(df[['X']])\n",
    "y_pred = model.predict(df[['X']])\n",
    "df['class'] = y_pred\n",
    "\n",
    "plt.figure(figsize=(14, 7))\n",
    "sns.histplot(data=df, x='X', hue='class', bins=40)"
   ]
  },
  {
   "cell_type": "code",
   "execution_count": 38,
   "metadata": {},
   "outputs": [
    {
     "name": "stdout",
     "output_type": "stream",
     "text": [
      "3.0 0.0\n",
      "25.0 0.0\n",
      "6.0 5.67\n",
      "17.16 7.88\n",
      "-0.02 0.23\n"
     ]
    }
   ],
   "source": [
    "for mean, cov in zip(model.means_, model.covariances_):\n",
    "    print(round(mean[0], 2), round(cov[0][0], 2))"
   ]
  },
  {
   "cell_type": "markdown",
   "metadata": {},
   "source": [
    "#### Задача 15. Из контрольной прошлого года\n",
    "\n",
    "В контрольной работе прошлого года была такая задача:\n",
    "\n",
    "> У меня есть три монетки. Они выпадают орлом с вероятностями $p_1$, $p_2$ и $p_3 = 1$. Я провожу эксперимент из 100 раундов. В каждом раунде я равновероятно выбираю одну из монеток, подбрасываю её два раза и записываю число выпавших орлов. После окончания эксперимента у меня на бумажке остаётся 100 записанных чисел. Какая монетка подкидывалась в каждом раунде, я не помню.\n",
    "\n",
    "На контрольной требовалось описать EM-алгоритм для нахождения $\\hat{p}_1$ и $\\hat{p}_2$.\n",
    "\n",
    "**[а]** **(3 балла)** В файле `15.csv` приведена описанная выборка из 100 чисел. Реализуйте EM-алгоритм для нахождения $\\hat{p}_1$ и $\\hat{p}_2$.\n",
    "\n",
    "**[б]** Постройте график $Q$ в зависимости от числа итераций.\n",
    "\n",
    "\n",
    "**[в]** Изучите выборку и прокомментируйте адекватность полученных оценок."
   ]
  },
  {
   "cell_type": "code",
   "execution_count": 11,
   "metadata": {},
   "outputs": [
    {
     "data": {
      "text/html": [
       "<div>\n",
       "<style scoped>\n",
       "    .dataframe tbody tr th:only-of-type {\n",
       "        vertical-align: middle;\n",
       "    }\n",
       "\n",
       "    .dataframe tbody tr th {\n",
       "        vertical-align: top;\n",
       "    }\n",
       "\n",
       "    .dataframe thead th {\n",
       "        text-align: right;\n",
       "    }\n",
       "</style>\n",
       "<table border=\"1\" class=\"dataframe\">\n",
       "  <thead>\n",
       "    <tr style=\"text-align: right;\">\n",
       "      <th></th>\n",
       "      <th>X</th>\n",
       "    </tr>\n",
       "  </thead>\n",
       "  <tbody>\n",
       "    <tr>\n",
       "      <th>0</th>\n",
       "      <td>2</td>\n",
       "    </tr>\n",
       "    <tr>\n",
       "      <th>1</th>\n",
       "      <td>1</td>\n",
       "    </tr>\n",
       "    <tr>\n",
       "      <th>2</th>\n",
       "      <td>2</td>\n",
       "    </tr>\n",
       "    <tr>\n",
       "      <th>3</th>\n",
       "      <td>2</td>\n",
       "    </tr>\n",
       "    <tr>\n",
       "      <th>4</th>\n",
       "      <td>0</td>\n",
       "    </tr>\n",
       "  </tbody>\n",
       "</table>\n",
       "</div>"
      ],
      "text/plain": [
       "   X\n",
       "0  2\n",
       "1  1\n",
       "2  2\n",
       "3  2\n",
       "4  0"
      ]
     },
     "execution_count": 11,
     "metadata": {},
     "output_type": "execute_result"
    }
   ],
   "source": [
    "df = pd.read_csv('15.csv', index_col='Unnamed: 0')\n",
    "x = df['X']\n",
    "df.head()"
   ]
  },
  {
   "cell_type": "markdown",
   "metadata": {},
   "source": [
    "**[a]**"
   ]
  },
  {
   "cell_type": "code",
   "execution_count": 12,
   "metadata": {},
   "outputs": [],
   "source": [
    "def f(p, k):    \n",
    "    return (factorial(2) / (factorial(2 - k) * factorial(k))) * (p ** k * (1 - p) ** (2 - k))\n",
    "\n",
    "def lnf(p, k):\n",
    "    return np.log((factorial(2) /\n",
    "                   (factorial(2 - k) * factorial(k)))) + k * np.log(p) + (2 - k) * np.log((1 - p) + 0.001)\n",
    "\n",
    "def Q_f(x, theta, p_z_1, p_z_2, p_z_3):\n",
    "    ell1 = lnf(theta[0], x) + np.log(1 / 3)\n",
    "    ell2 = lnf(theta[1], x) + np.log(1 / 3)\n",
    "    ell3 = lnf(1, x) + np.log(1 / 3)\n",
    "    return np.sum(p_z_1 * ell1 + (p_z_2) * ell2 + p_z_3 * ell3)"
   ]
  },
  {
   "cell_type": "code",
   "execution_count": 13,
   "metadata": {},
   "outputs": [],
   "source": [
    "def EM(x, theta):\n",
    "    \n",
    "    Q_history = []\n",
    "    \n",
    "    for i in range(100):\n",
    "        \n",
    "        # E-step\n",
    "        p_z_1 = (f(theta[0], x) * (1/3)) / ((1/3 * f(theta[0], x) + 1/3 * f(theta[1], x) + 1/3 * f(1, x)))\n",
    "        p_z_2 = (f(theta[1], x) * (1/3)) / ((1/3 * f(theta[0], x) + 1/3 * f(theta[1], x) + 1/3 * f(1, x)))        \n",
    "        p_z_3 = (f(1, x) * (1/3)) / ((1/3 * f(theta[0], x) + 1/3 * f(theta[1], x) + 1/3 * f(1, x)))\n",
    "        \n",
    "        \n",
    "        Q_history.append(Q_f(x, theta, p_z_1, p_z_2, p_z_3))\n",
    "        \n",
    "        if i > 0:\n",
    "            if (Q_history[i] - Q_history[i-1])**2 < 1e-4:\n",
    "                break\n",
    "        \n",
    "        # M-step\n",
    "        p1 = np.sum(p_z_1 * x) / (np.sum(p_z_1 * x) + np.sum(p_z_1 * (2 - x)))\n",
    "        p2 = np.sum(p_z_2 * x) / (np.sum(p_z_2 * x) + np.sum(p_z_2 * (2 - x)))\n",
    "        p3 = np.sum(p_z_3 * x) / (np.sum(p_z_3 * x) + np.sum(p_z_3 * (2 - x)))\n",
    "\n",
    "        theta_new = np.array([p1, p2])\n",
    "        \n",
    "        theta = theta_new\n",
    "    \n",
    "    return (theta, Q_history)"
   ]
  },
  {
   "cell_type": "code",
   "execution_count": 14,
   "metadata": {},
   "outputs": [
    {
     "name": "stdout",
     "output_type": "stream",
     "text": [
      "p1: 0.3 p2: 0.36\n"
     ]
    }
   ],
   "source": [
    "theta = np.array([1/4, 1/2])\n",
    "theta, Q = EM(x, theta)\n",
    "print('p1:', round(theta[0], 2), 'p2:', round(theta[1], 2))"
   ]
  },
  {
   "cell_type": "markdown",
   "metadata": {},
   "source": [
    "**[б]**"
   ]
  },
  {
   "cell_type": "code",
   "execution_count": 15,
   "metadata": {},
   "outputs": [
    {
     "data": {
      "image/png": "[encoded data removed]",
      "text/plain": [
       "<Figure size 1152x648 with 1 Axes>"
      ]
     },
     "metadata": {
      "needs_background": "light"
     },
     "output_type": "display_data"
    }
   ],
   "source": [
    "plt.figure(figsize=(16, 9))\n",
    "sns.lineplot(np.arange(len(Q)), Q, color='r')\n",
    "plt.xlabel('Iter', weight='bold', size=14)\n",
    "plt.ylabel('Q', weight='bold', size=14)\n",
    "plt.show()"
   ]
  },
  {
   "cell_type": "code",
   "execution_count": 16,
   "metadata": {},
   "outputs": [
    {
     "data": {
      "image/png": "[encoded data removed]",
      "text/plain": [
       "<Figure size 432x288 with 1 Axes>"
      ]
     },
     "metadata": {
      "needs_background": "light"
     },
     "output_type": "display_data"
    }
   ],
   "source": [
    "plt.hist(x)\n",
    "plt.show()"
   ]
  },
  {
   "cell_type": "markdown",
   "metadata": {},
   "source": [
    "__Сравним распределения заданных событий с искусственно созданными на основе полученных оценок на theta__"
   ]
  },
  {
   "cell_type": "code",
   "execution_count": 17,
   "metadata": {},
   "outputs": [],
   "source": [
    "coins_probs = [theta[0], theta[1], 1]\n",
    "orli = []\n",
    "for i in range(10000):\n",
    "    orel = 0\n",
    "    coin_n = np.random.choice(coins_probs)\n",
    "        \n",
    "    y = np.random.randint(101)\n",
    "    if y < 100 * coin_n:\n",
    "        orel += 1\n",
    "    y = np.random.randint(101)\n",
    "    if y < 100 * coin_n:\n",
    "        orel += 1\n",
    "    orli.append(orel)"
   ]
  },
  {
   "cell_type": "code",
   "execution_count": 18,
   "metadata": {},
   "outputs": [
    {
     "data": {
      "text/plain": [
       "(array([2992.,    0.,    0.,    0.,    0., 3000.,    0.,    0.,    0.,\n",
       "        4008.]),\n",
       " array([0. , 0.2, 0.4, 0.6, 0.8, 1. , 1.2, 1.4, 1.6, 1.8, 2. ]),\n",
       " <BarContainer object of 10 artists>)"
      ]
     },
     "execution_count": 18,
     "metadata": {},
     "output_type": "execute_result"
    },
    {
     "data": {
      "image/png": "[encoded data removed]",
      "text/plain": [
       "<Figure size 432x288 with 1 Axes>"
      ]
     },
     "metadata": {
      "needs_background": "light"
     },
     "output_type": "display_data"
    }
   ],
   "source": [
    "plt.hist(orli)"
   ]
  },
  {
   "cell_type": "markdown",
   "metadata": {},
   "source": [
    "**Вывод:** Столбцы с искусственно сгенерированными данными немного отличаются по высоте в сравнении с предоставленными нам данными, это может быть связано с небольшим количеством проведенных экспериментов, при этом сохраняется выделение столбца с двойками среди остальных, что говорит нам о том, что полученные оценки получились адекватными."
   ]
  },
  {
   "cell_type": "markdown",
   "metadata": {},
   "source": [
    "#### Задача 16. Бутстраппируем!\n",
    "\n",
    "Исследователь Валентин каждый день ловит покемонов. По причинам, которые Валентин предпочитает не раскрывать, он совершает ровно 15 попыток поймать покемона за день. Каждая попытка может окончиться успехом с некоторой вероятностью. В файле `16.csv` представлены наблюдения о пойманных покемонах за 3 года. \n",
    "\n",
    "**[а]** Сделайте предположение о том, какое распределение имеет число пойманных за день покемонов. Это распределение должно иметь один неизвестный параметр.\n",
    "\n",
    "**[б]** Найдите точечную оценку неизвестного параметра методом максимального правдоподобия.\n",
    "\n",
    "**[в]** **(2 балла)** Постройте 95%-ый доверительный интервал для неизвестного параметра при помощи методов **Reverse bootstrap percentile**, **t-bootstrap** и **параметрического бутстрэпа**. "
   ]
  },
  {
   "cell_type": "code",
   "execution_count": 19,
   "metadata": {},
   "outputs": [
    {
     "data": {
      "text/html": [
       "<div>\n",
       "<style scoped>\n",
       "    .dataframe tbody tr th:only-of-type {\n",
       "        vertical-align: middle;\n",
       "    }\n",
       "\n",
       "    .dataframe tbody tr th {\n",
       "        vertical-align: top;\n",
       "    }\n",
       "\n",
       "    .dataframe thead th {\n",
       "        text-align: right;\n",
       "    }\n",
       "</style>\n",
       "<table border=\"1\" class=\"dataframe\">\n",
       "  <thead>\n",
       "    <tr style=\"text-align: right;\">\n",
       "      <th></th>\n",
       "      <th>X</th>\n",
       "    </tr>\n",
       "  </thead>\n",
       "  <tbody>\n",
       "    <tr>\n",
       "      <th>0</th>\n",
       "      <td>10</td>\n",
       "    </tr>\n",
       "    <tr>\n",
       "      <th>1</th>\n",
       "      <td>9</td>\n",
       "    </tr>\n",
       "    <tr>\n",
       "      <th>2</th>\n",
       "      <td>11</td>\n",
       "    </tr>\n",
       "    <tr>\n",
       "      <th>3</th>\n",
       "      <td>9</td>\n",
       "    </tr>\n",
       "    <tr>\n",
       "      <th>4</th>\n",
       "      <td>9</td>\n",
       "    </tr>\n",
       "  </tbody>\n",
       "</table>\n",
       "</div>"
      ],
      "text/plain": [
       "    X\n",
       "0  10\n",
       "1   9\n",
       "2  11\n",
       "3   9\n",
       "4   9"
      ]
     },
     "execution_count": 19,
     "metadata": {},
     "output_type": "execute_result"
    }
   ],
   "source": [
    "df = pd.read_csv('16.csv', index_col='Unnamed: 0')\n",
    "x = df['X']\n",
    "df.head()"
   ]
  },
  {
   "cell_type": "code",
   "execution_count": 20,
   "metadata": {},
   "outputs": [
    {
     "data": {
      "image/png": "[encoded data removed]",
      "text/plain": [
       "<Figure size 864x576 with 1 Axes>"
      ]
     },
     "metadata": {
      "needs_background": "light"
     },
     "output_type": "display_data"
    }
   ],
   "source": [
    "plt.figure(figsize=(12, 8))\n",
    "sns.histplot(x, bins=12, color='r')\n",
    "plt.show()"
   ]
  },
  {
   "cell_type": "markdown",
   "metadata": {},
   "source": [
    "**[a]**\n",
    "\n",
    "$Bin(p) = С_n^k * p^k * q^{n-k}, где\\ q = 1 - p$"
   ]
  },
  {
   "cell_type": "markdown",
   "metadata": {},
   "source": [
    "**[б]**\n",
    "$\n",
    "m - размер \\ выборки\\\\\n",
    "L = C_{15}^{k_1} * p^{k_1} * (1-p)^{15-k_1} * ... * C_{15}^{k_\\ell} * p^{k_\\ell} * (1-p)^{15-k_\\ell}\\\\\n",
    "l = ln(L) = ln(C_{15}^{k_1} * p^{k_1} * (1-p)^{15-k_1} * ... * C_{15}^{k_\\ell} * p^{k_\\ell} * (1-p)^{15-k_\\ell}) = \\sum{ln(C_{15}^{k_i})} + ln(p)\\sum{k_i} + ln(1-p)\\sum{(15 - k_i)}\\\\\n",
    "l'_p = \\frac{\\sum{k_i}}{p} - \\frac{\\sum{15 - k_i}}{1 - p}\\\\\n",
    "l'_p = 0: \\\\\n",
    "\\sum{k_i} - \\hat{p}\\sum{k_i} - 15\\hat{p} * m + \\hat{p}\\sum{k_i} = 0 \\\\\n",
    "15\\hat{p}*m = \\sum{k_i}\\\\\n",
    "\\hat{p} = \\frac{\\sum{k_i}}{15 * m} = \\frac{\\bar{k}}{15}\n",
    "$"
   ]
  },
  {
   "cell_type": "code",
   "execution_count": 21,
   "metadata": {},
   "outputs": [
    {
     "name": "stdout",
     "output_type": "stream",
     "text": [
      "p_ml : 0.6547\n"
     ]
    }
   ],
   "source": [
    "p_ml = x.mean() / 15\n",
    "print('p_ml : %.4f' % p_ml)"
   ]
  },
  {
   "cell_type": "markdown",
   "metadata": {},
   "source": [
    "**[в]**\n",
    "\n",
    "**Reverse bootstrap percentile**\n"
   ]
  },
  {
   "cell_type": "code",
   "execution_count": 22,
   "metadata": {},
   "outputs": [
    {
     "name": "stdout",
     "output_type": "stream",
     "text": [
      "CI: [ 0.647427701674277 ; 0.6621004566210046 ]\n"
     ]
    }
   ],
   "source": [
    "## samples\n",
    "np.random.seed(69)\n",
    "samples = np.random.choice(df['X'], size=(len(df['X']), 10000))\n",
    "\n",
    "## p_ml\n",
    "samples_p_ml = samples.mean(axis=0) / 15\n",
    "\n",
    "## d*\n",
    "d_star = p_ml - samples_p_ml\n",
    "\n",
    "## quantiles\n",
    "d_star_q = np.quantile(d_star, (0.025, 0.975))\n",
    "\n",
    "# CI\n",
    "UB = p_ml - d_star_q[0]\n",
    "LB = p_ml - d_star_q[1]\n",
    "print('CI: [', LB, ';', UB, ']')"
   ]
  },
  {
   "cell_type": "markdown",
   "metadata": {},
   "source": [
    "**t-bootstrap**"
   ]
  },
  {
   "cell_type": "code",
   "execution_count": 23,
   "metadata": {},
   "outputs": [
    {
     "name": "stdout",
     "output_type": "stream",
     "text": [
      "CI: [ 0.6473689437486936 ; 0.6620283830445518 ]\n"
     ]
    }
   ],
   "source": [
    "## samples\n",
    "np.random.seed(69)\n",
    "samples = np.random.choice(df['X'], size=(len(df['X']), 10000))\n",
    "\n",
    "\n",
    "## p_ml\n",
    "samples_p_ml = samples.mean(axis=0) / 15\n",
    "\n",
    "## se\n",
    "samples_se = np.std(samples / 15, axis = 0)\n",
    "\n",
    "## t*\n",
    "t_star = (samples_p_ml - p_ml) / samples_se\n",
    "\n",
    "## quantiles\n",
    "t_star_q = np.quantile(t_star, (0.025, 0.975))\n",
    "\n",
    "## CI\n",
    "UB = p_ml - t_star_q[0] * np.std(df['X'] / 15)\n",
    "LB = p_ml - t_star_q[1] * np.std(df['X'] / 15)\n",
    "print('CI: [', LB, ';', UB, ']')"
   ]
  },
  {
   "cell_type": "markdown",
   "metadata": {},
   "source": [
    "**Параметрический бутстрэп**"
   ]
  },
  {
   "cell_type": "code",
   "execution_count": 24,
   "metadata": {},
   "outputs": [
    {
     "name": "stdout",
     "output_type": "stream",
     "text": [
      "CI: [ 0.6475479452054794 ; 0.6619786910197869 ]\n"
     ]
    }
   ],
   "source": [
    "## samples\n",
    "np.random.seed(69)\n",
    "samples = np.random.binomial(15, p_ml, (1095, 10000))\n",
    "\n",
    "## p_ml\n",
    "samples_p_ml = samples.mean(axis=0) / 15\n",
    "\n",
    "## d*\n",
    "d_star = p_ml - samples_p_ml\n",
    "\n",
    "## quantiles\n",
    "d_star_q = np.quantile(d_star, (0.025, 0.975))\n",
    "\n",
    "## CI\n",
    "UB = p_ml - d_star_q[0]\n",
    "LB = p_ml - d_star_q[1]\n",
    "print('CI: [', LB, ';', UB, ']')"
   ]
  },
  {
   "cell_type": "code",
   "execution_count": null,
   "metadata": {},
   "outputs": [],
   "source": []
  }
 ],
 "metadata": {
  "kernelspec": {
   "display_name": "Python 3",
   "language": "python",
   "name": "python3"
  },
  "language_info": {
   "codemirror_mode": {
    "name": "ipython",
    "version": 3
   },
   "file_extension": ".py",
   "mimetype": "text/x-python",
   "name": "python",
   "nbconvert_exporter": "python",
   "pygments_lexer": "ipython3",
   "version": "3.7.3"
  }
 },
 "nbformat": 4,
 "nbformat_minor": 5
}
